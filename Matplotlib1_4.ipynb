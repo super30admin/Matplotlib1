{
  "nbformat": 4,
  "nbformat_minor": 0,
  "metadata": {
    "colab": {
      "provenance": []
    },
    "kernelspec": {
      "name": "python3",
      "display_name": "Python 3"
    },
    "language_info": {
      "name": "python"
    }
  },
  "cells": [
    {
      "cell_type": "code",
      "execution_count": null,
      "metadata": {
        "id": "N_r889SsMk00"
      },
      "outputs": [],
      "source": [
        "from matplotlib import pyplot as plt\n",
        "\n",
        "continents = ['Asia', 'Europe', 'North America',\n",
        "              'South America','Australia',\n",
        "              'Africa','Antarctica']\n",
        "\n",
        "area = [25, 20, 15, 10,15,10,5]\n",
        "explode = (0.1, 0, 0.1, 0,0.1,0.1,0.1)\n",
        "\n",
        "plt.pie(area, explode = explode, labels = continents,\n",
        "        autopct = '%1.1f%%',startangle = 0,\n",
        "        wedgeprops = {\"edgecolor\" : \"black\",\n",
        "                    'linewidth' : 2,\n",
        "                    'antialiased': True})\n",
        "\n",
        "plt.axis('equal')\n",
        "plt.show()"
      ]
    }
  ]
}