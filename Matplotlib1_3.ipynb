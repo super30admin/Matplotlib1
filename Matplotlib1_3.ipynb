{
  "nbformat": 4,
  "nbformat_minor": 0,
  "metadata": {
    "colab": {
      "provenance": []
    },
    "kernelspec": {
      "name": "python3",
      "display_name": "Python 3"
    },
    "language_info": {
      "name": "python"
    }
  },
  "cells": [
    {
      "cell_type": "code",
      "execution_count": null,
      "metadata": {
        "id": "N_r889SsMk00"
      },
      "outputs": [],
      "source": [
        "from matplotlib import pyplot as plt\n",
        "\n",
        "fig, ax = plt.subplots()\n",
        "ax.hist( data, bins = 100, alpha = 0.6)\n",
        "ax.set_xlabel(\"X-Label\",\n",
        "              fontsize = 16, loc = \"right\")\n",
        "\n",
        "ax.set_ylabel(\"Y-Label\",\n",
        "              fontsize = 16, loc = \"top\")"
      ]
    }
  ]
}